{
 "cells": [
  {
   "cell_type": "markdown",
   "metadata": {},
   "source": [
    "# Titanic: Machine Learning from Disaster\n",
    "\n",
    "# Feature Engineering"
   ]
  },
  {
   "cell_type": "markdown",
   "metadata": {},
   "source": [
    "## 1 - Setup\n",
    "\n",
    "### 1.1 - Import Packages"
   ]
  },
  {
   "cell_type": "code",
   "execution_count": 45,
   "metadata": {
    "collapsed": false,
    "scrolled": true
   },
   "outputs": [
    {
     "name": "stdout",
     "output_type": "stream",
     "text": [
      "Populating the interactive namespace from numpy and matplotlib\n"
     ]
    },
    {
     "name": "stderr",
     "output_type": "stream",
     "text": [
      "WARNING: pylab import has clobbered these variables: ['clf']\n",
      "`%matplotlib` prevents importing * from pylab and numpy\n"
     ]
    }
   ],
   "source": [
    "import sys\n",
    "from os import path\n",
    "sys.path.append( path.dirname( path.dirname( path.abspath('__file__') ) ) )\n",
    "\n",
    "import fancyimpute\n",
    "import numpy as np\n",
    "import matplotlib.pyplot as plt\n",
    "from misc.data_io import get_train_df, get_test_df, get_paths\n",
    "import pandas as pd\n",
    "import seaborn as sns\n",
    "from sklearn.linear_model import LogisticRegression\n",
    "from sklearn.cross_validation import cross_val_score\n",
    "import warnings\n",
    "\n",
    "%pylab inline\n",
    "warnings.filterwarnings('ignore')"
   ]
  },
  {
   "cell_type": "markdown",
   "metadata": {},
   "source": [
    "### 1.2 - Load Data\n",
    "\n",
    "#### VARIABLE DESCRIPTIONS:\n",
    "* survival:        Survival(0 = No; 1 = Yes)\n",
    "* pclass:          Passenger Class(1 = 1st; 2 = 2nd; 3 = 3rd)\n",
    "* name:            Name\n",
    "* sex:             Sex\n",
    "* age:             Age\n",
    "* sibsp:           Number of Siblings/Spouses Aboard\n",
    "* parch:           Number of Parents/Children Aboard\n",
    "* ticket:          Ticket Number\n",
    "* fare:            Passenger Fare\n",
    "* cabin:           Cabin\n",
    "* embarked:        Port of Embarkation(C = Cherbourg; Q = Queenstown; S = Southampton)"
   ]
  },
  {
   "cell_type": "code",
   "execution_count": 3,
   "metadata": {
    "collapsed": false
   },
   "outputs": [
    {
     "data": {
      "text/html": [
       "<div>\n",
       "<table border=\"1\" class=\"dataframe\">\n",
       "  <thead>\n",
       "    <tr style=\"text-align: right;\">\n",
       "      <th></th>\n",
       "      <th>Age</th>\n",
       "      <th>Cabin</th>\n",
       "      <th>Embarked</th>\n",
       "      <th>Fare</th>\n",
       "      <th>Name</th>\n",
       "      <th>Parch</th>\n",
       "      <th>PassengerId</th>\n",
       "      <th>Pclass</th>\n",
       "      <th>Sex</th>\n",
       "      <th>SibSp</th>\n",
       "      <th>Survived</th>\n",
       "      <th>Ticket</th>\n",
       "    </tr>\n",
       "  </thead>\n",
       "  <tbody>\n",
       "    <tr>\n",
       "      <th>1304</th>\n",
       "      <td>NaN</td>\n",
       "      <td>NaN</td>\n",
       "      <td>S</td>\n",
       "      <td>8.0500</td>\n",
       "      <td>Spector, Mr. Woolf</td>\n",
       "      <td>0</td>\n",
       "      <td>1305</td>\n",
       "      <td>3</td>\n",
       "      <td>male</td>\n",
       "      <td>0</td>\n",
       "      <td>NaN</td>\n",
       "      <td>A.5. 3236</td>\n",
       "    </tr>\n",
       "    <tr>\n",
       "      <th>1305</th>\n",
       "      <td>39.0</td>\n",
       "      <td>C105</td>\n",
       "      <td>C</td>\n",
       "      <td>108.9000</td>\n",
       "      <td>Oliva y Ocana, Dona. Fermina</td>\n",
       "      <td>0</td>\n",
       "      <td>1306</td>\n",
       "      <td>1</td>\n",
       "      <td>female</td>\n",
       "      <td>0</td>\n",
       "      <td>NaN</td>\n",
       "      <td>PC 17758</td>\n",
       "    </tr>\n",
       "    <tr>\n",
       "      <th>1306</th>\n",
       "      <td>38.5</td>\n",
       "      <td>NaN</td>\n",
       "      <td>S</td>\n",
       "      <td>7.2500</td>\n",
       "      <td>Saether, Mr. Simon Sivertsen</td>\n",
       "      <td>0</td>\n",
       "      <td>1307</td>\n",
       "      <td>3</td>\n",
       "      <td>male</td>\n",
       "      <td>0</td>\n",
       "      <td>NaN</td>\n",
       "      <td>SOTON/O.Q. 3101262</td>\n",
       "    </tr>\n",
       "    <tr>\n",
       "      <th>1307</th>\n",
       "      <td>NaN</td>\n",
       "      <td>NaN</td>\n",
       "      <td>S</td>\n",
       "      <td>8.0500</td>\n",
       "      <td>Ware, Mr. Frederick</td>\n",
       "      <td>0</td>\n",
       "      <td>1308</td>\n",
       "      <td>3</td>\n",
       "      <td>male</td>\n",
       "      <td>0</td>\n",
       "      <td>NaN</td>\n",
       "      <td>359309</td>\n",
       "    </tr>\n",
       "    <tr>\n",
       "      <th>1308</th>\n",
       "      <td>NaN</td>\n",
       "      <td>NaN</td>\n",
       "      <td>C</td>\n",
       "      <td>22.3583</td>\n",
       "      <td>Peter, Master. Michael J</td>\n",
       "      <td>1</td>\n",
       "      <td>1309</td>\n",
       "      <td>3</td>\n",
       "      <td>male</td>\n",
       "      <td>1</td>\n",
       "      <td>NaN</td>\n",
       "      <td>2668</td>\n",
       "    </tr>\n",
       "  </tbody>\n",
       "</table>\n",
       "</div>"
      ],
      "text/plain": [
       "       Age Cabin Embarked      Fare                          Name  Parch  \\\n",
       "1304   NaN   NaN        S    8.0500            Spector, Mr. Woolf      0   \n",
       "1305  39.0  C105        C  108.9000  Oliva y Ocana, Dona. Fermina      0   \n",
       "1306  38.5   NaN        S    7.2500  Saether, Mr. Simon Sivertsen      0   \n",
       "1307   NaN   NaN        S    8.0500           Ware, Mr. Frederick      0   \n",
       "1308   NaN   NaN        C   22.3583      Peter, Master. Michael J      1   \n",
       "\n",
       "      PassengerId Pclass     Sex  SibSp  Survived              Ticket  \n",
       "1304         1305      3    male      0       NaN           A.5. 3236  \n",
       "1305         1306      1  female      0       NaN            PC 17758  \n",
       "1306         1307      3    male      0       NaN  SOTON/O.Q. 3101262  \n",
       "1307         1308      3    male      0       NaN              359309  \n",
       "1308         1309      3    male      1       NaN                2668  "
      ]
     },
     "execution_count": 3,
     "metadata": {},
     "output_type": "execute_result"
    }
   ],
   "source": [
    "train_data = get_train_df()\n",
    "test_data = get_test_df()\n",
    "full_data = pd.concat([train_data, test_data]).reset_index(drop=True)\n",
    "full_data['Pclass'] = full_data['Pclass'].astype('category')\n",
    "full_data['Embarked'] = full_data['Embarked'].astype('category')\n",
    "full_data['Sex'] = full_data['Sex'].astype('category')\n",
    "full_data.tail()"
   ]
  },
  {
   "cell_type": "markdown",
   "metadata": {},
   "source": [
    "### 1.2 - Variables Statistical Description\n",
    "\n",
    "Generate various summary statistics, excluding NaN values. It's possible to notice that there are a lot of missing values for cabin and age and also a few for embarked and fare."
   ]
  },
  {
   "cell_type": "code",
   "execution_count": 4,
   "metadata": {
    "collapsed": false
   },
   "outputs": [
    {
     "name": "stderr",
     "output_type": "stream",
     "text": [
      "/home/rafael/anaconda3/envs/titanic/lib/python3.5/site-packages/numpy/lib/function_base.py:3823: RuntimeWarning: Invalid value encountered in percentile\n",
      "  RuntimeWarning)\n"
     ]
    },
    {
     "data": {
      "text/html": [
       "<div>\n",
       "<table border=\"1\" class=\"dataframe\">\n",
       "  <thead>\n",
       "    <tr style=\"text-align: right;\">\n",
       "      <th></th>\n",
       "      <th>Age</th>\n",
       "      <th>Fare</th>\n",
       "      <th>Parch</th>\n",
       "      <th>PassengerId</th>\n",
       "      <th>SibSp</th>\n",
       "      <th>Survived</th>\n",
       "    </tr>\n",
       "  </thead>\n",
       "  <tbody>\n",
       "    <tr>\n",
       "      <th>count</th>\n",
       "      <td>1046.000000</td>\n",
       "      <td>1308.000000</td>\n",
       "      <td>1309.000000</td>\n",
       "      <td>1309.000000</td>\n",
       "      <td>1309.000000</td>\n",
       "      <td>891.000000</td>\n",
       "    </tr>\n",
       "    <tr>\n",
       "      <th>mean</th>\n",
       "      <td>29.881138</td>\n",
       "      <td>33.295479</td>\n",
       "      <td>0.385027</td>\n",
       "      <td>655.000000</td>\n",
       "      <td>0.498854</td>\n",
       "      <td>0.383838</td>\n",
       "    </tr>\n",
       "    <tr>\n",
       "      <th>std</th>\n",
       "      <td>14.413493</td>\n",
       "      <td>51.758668</td>\n",
       "      <td>0.865560</td>\n",
       "      <td>378.020061</td>\n",
       "      <td>1.041658</td>\n",
       "      <td>0.486592</td>\n",
       "    </tr>\n",
       "    <tr>\n",
       "      <th>min</th>\n",
       "      <td>0.170000</td>\n",
       "      <td>0.000000</td>\n",
       "      <td>0.000000</td>\n",
       "      <td>1.000000</td>\n",
       "      <td>0.000000</td>\n",
       "      <td>0.000000</td>\n",
       "    </tr>\n",
       "    <tr>\n",
       "      <th>25%</th>\n",
       "      <td>NaN</td>\n",
       "      <td>NaN</td>\n",
       "      <td>0.000000</td>\n",
       "      <td>328.000000</td>\n",
       "      <td>0.000000</td>\n",
       "      <td>NaN</td>\n",
       "    </tr>\n",
       "    <tr>\n",
       "      <th>50%</th>\n",
       "      <td>NaN</td>\n",
       "      <td>NaN</td>\n",
       "      <td>0.000000</td>\n",
       "      <td>655.000000</td>\n",
       "      <td>0.000000</td>\n",
       "      <td>NaN</td>\n",
       "    </tr>\n",
       "    <tr>\n",
       "      <th>75%</th>\n",
       "      <td>NaN</td>\n",
       "      <td>NaN</td>\n",
       "      <td>0.000000</td>\n",
       "      <td>982.000000</td>\n",
       "      <td>1.000000</td>\n",
       "      <td>NaN</td>\n",
       "    </tr>\n",
       "    <tr>\n",
       "      <th>max</th>\n",
       "      <td>80.000000</td>\n",
       "      <td>512.329200</td>\n",
       "      <td>9.000000</td>\n",
       "      <td>1309.000000</td>\n",
       "      <td>8.000000</td>\n",
       "      <td>1.000000</td>\n",
       "    </tr>\n",
       "  </tbody>\n",
       "</table>\n",
       "</div>"
      ],
      "text/plain": [
       "               Age         Fare        Parch  PassengerId        SibSp  \\\n",
       "count  1046.000000  1308.000000  1309.000000  1309.000000  1309.000000   \n",
       "mean     29.881138    33.295479     0.385027   655.000000     0.498854   \n",
       "std      14.413493    51.758668     0.865560   378.020061     1.041658   \n",
       "min       0.170000     0.000000     0.000000     1.000000     0.000000   \n",
       "25%            NaN          NaN     0.000000   328.000000     0.000000   \n",
       "50%            NaN          NaN     0.000000   655.000000     0.000000   \n",
       "75%            NaN          NaN     0.000000   982.000000     1.000000   \n",
       "max      80.000000   512.329200     9.000000  1309.000000     8.000000   \n",
       "\n",
       "         Survived  \n",
       "count  891.000000  \n",
       "mean     0.383838  \n",
       "std      0.486592  \n",
       "min      0.000000  \n",
       "25%           NaN  \n",
       "50%           NaN  \n",
       "75%           NaN  \n",
       "max      1.000000  "
      ]
     },
     "execution_count": 4,
     "metadata": {},
     "output_type": "execute_result"
    }
   ],
   "source": [
    "# Statistical description of the data\n",
    "full_data.describe()"
   ]
  },
  {
   "cell_type": "code",
   "execution_count": 5,
   "metadata": {
    "collapsed": false
   },
   "outputs": [
    {
     "data": {
      "text/plain": [
       "Age             263\n",
       "Cabin          1014\n",
       "Embarked          2\n",
       "Fare              1\n",
       "Name              0\n",
       "Parch             0\n",
       "PassengerId       0\n",
       "Pclass            0\n",
       "Sex               0\n",
       "SibSp             0\n",
       "Survived        418\n",
       "Ticket            0\n",
       "dtype: int64"
      ]
     },
     "execution_count": 5,
     "metadata": {},
     "output_type": "execute_result"
    }
   ],
   "source": [
    "# Count how many NaN values there are in each column\n",
    "len(full_data) - full_data.count()"
   ]
  },
  {
   "cell_type": "code",
   "execution_count": 6,
   "metadata": {
    "collapsed": false
   },
   "outputs": [
    {
     "data": {
      "text/html": [
       "<div>\n",
       "<table border=\"1\" class=\"dataframe\">\n",
       "  <thead>\n",
       "    <tr style=\"text-align: right;\">\n",
       "      <th></th>\n",
       "      <th>Age</th>\n",
       "      <th>Cabin</th>\n",
       "      <th>Embarked</th>\n",
       "      <th>Fare</th>\n",
       "      <th>Name</th>\n",
       "      <th>Parch</th>\n",
       "      <th>PassengerId</th>\n",
       "      <th>Pclass</th>\n",
       "      <th>Sex</th>\n",
       "      <th>SibSp</th>\n",
       "      <th>Survived</th>\n",
       "      <th>Ticket</th>\n",
       "    </tr>\n",
       "  </thead>\n",
       "  <tbody>\n",
       "    <tr>\n",
       "      <th>61</th>\n",
       "      <td>38.0</td>\n",
       "      <td>B28</td>\n",
       "      <td>NaN</td>\n",
       "      <td>80.0</td>\n",
       "      <td>Icard, Miss. Amelie</td>\n",
       "      <td>0</td>\n",
       "      <td>62</td>\n",
       "      <td>1</td>\n",
       "      <td>female</td>\n",
       "      <td>0</td>\n",
       "      <td>1.0</td>\n",
       "      <td>113572</td>\n",
       "    </tr>\n",
       "    <tr>\n",
       "      <th>829</th>\n",
       "      <td>62.0</td>\n",
       "      <td>B28</td>\n",
       "      <td>NaN</td>\n",
       "      <td>80.0</td>\n",
       "      <td>Stone, Mrs. George Nelson (Martha Evelyn)</td>\n",
       "      <td>0</td>\n",
       "      <td>830</td>\n",
       "      <td>1</td>\n",
       "      <td>female</td>\n",
       "      <td>0</td>\n",
       "      <td>1.0</td>\n",
       "      <td>113572</td>\n",
       "    </tr>\n",
       "    <tr>\n",
       "      <th>1043</th>\n",
       "      <td>60.5</td>\n",
       "      <td>NaN</td>\n",
       "      <td>S</td>\n",
       "      <td>NaN</td>\n",
       "      <td>Storey, Mr. Thomas</td>\n",
       "      <td>0</td>\n",
       "      <td>1044</td>\n",
       "      <td>3</td>\n",
       "      <td>male</td>\n",
       "      <td>0</td>\n",
       "      <td>NaN</td>\n",
       "      <td>3701</td>\n",
       "    </tr>\n",
       "  </tbody>\n",
       "</table>\n",
       "</div>"
      ],
      "text/plain": [
       "       Age Cabin Embarked  Fare                                       Name  \\\n",
       "61    38.0   B28      NaN  80.0                        Icard, Miss. Amelie   \n",
       "829   62.0   B28      NaN  80.0  Stone, Mrs. George Nelson (Martha Evelyn)   \n",
       "1043  60.5   NaN        S   NaN                         Storey, Mr. Thomas   \n",
       "\n",
       "      Parch  PassengerId Pclass     Sex  SibSp  Survived  Ticket  \n",
       "61        0           62      1  female      0       1.0  113572  \n",
       "829       0          830      1  female      0       1.0  113572  \n",
       "1043      0         1044      3    male      0       NaN    3701  "
      ]
     },
     "execution_count": 6,
     "metadata": {},
     "output_type": "execute_result"
    }
   ],
   "source": [
    "# Passengers with missing values for Embarked and Fare.\n",
    "full_data[full_data.drop(['Age','Cabin','Survived'], axis=1).isnull().any(axis=1)]"
   ]
  },
  {
   "cell_type": "markdown",
   "metadata": {},
   "source": [
    "## 2- Feature Engineering"
   ]
  },
  {
   "cell_type": "code",
   "execution_count": 7,
   "metadata": {
    "collapsed": false
   },
   "outputs": [],
   "source": [
    "# Creating an empty dataframe for new features.\n",
    "new_features = pd.DataFrame()"
   ]
  },
  {
   "cell_type": "markdown",
   "metadata": {},
   "source": [
    "### 2.1 - Name\n",
    "\n",
    "Thera are two interesting features we can extract from the name field: the passenger's surname and title. When we first split the name column we have the following titles:"
   ]
  },
  {
   "cell_type": "code",
   "execution_count": 8,
   "metadata": {
    "collapsed": false
   },
   "outputs": [
    {
     "data": {
      "text/plain": [
       "Mr          757\n",
       "Miss        260\n",
       "Mrs         197\n",
       "Master       61\n",
       "Dr            8\n",
       "Rev           8\n",
       "Col           4\n",
       "Major         2\n",
       "Mlle          2\n",
       "Ms            2\n",
       "Mme           1\n",
       "Capt          1\n",
       "th            1\n",
       "Dona          1\n",
       "Don           1\n",
       "Jonkheer      1\n",
       "Lady          1\n",
       "Sir           1\n",
       "Name: Title, dtype: int64"
      ]
     },
     "execution_count": 8,
     "metadata": {},
     "output_type": "execute_result"
    }
   ],
   "source": [
    "df1 = full_data['Name']\n",
    "split_df = df1.str.split(', ',expand=True,n=1)\n",
    "new_features['Surname'] = split_df[0]\n",
    "new_features['Title'] = split_df[1].str.split('. ',expand=True,n=1)[0]\n",
    "new_features.Title.value_counts()"
   ]
  },
  {
   "cell_type": "markdown",
   "metadata": {},
   "source": [
    "After a little processing we can reduce the number of the titles to just 5 classes."
   ]
  },
  {
   "cell_type": "code",
   "execution_count": 9,
   "metadata": {
    "collapsed": false
   },
   "outputs": [
    {
     "data": {
      "text/plain": [
       "Mr        758\n",
       "Miss      264\n",
       "Mrs       197\n",
       "Master     61\n",
       "Rare       29\n",
       "Name: Title, dtype: int64"
      ]
     },
     "execution_count": 9,
     "metadata": {},
     "output_type": "execute_result"
    }
   ],
   "source": [
    "new_features.loc[new_features.Title == 'Mme', 'Title'] = 'Mr'\n",
    "new_features.loc[new_features.Title == 'Ms', 'Title'] = 'Miss'\n",
    "new_features.loc[new_features.Title == 'Mlle', 'Title'] = 'Miss'\n",
    "new_features.loc[new_features.Title == 'Mme', 'Title'] = 'Mr'\n",
    "new_features.loc[new_features.Title.isin(['Rev', 'Dr', 'Col', 'Major', 'Lady', 'Don', 'Capt', 'Sir', 'Dona', \n",
    "                                                'Jonkheer','th']), 'Title'] = 'Rare'\n",
    "new_features.Title.value_counts()"
   ]
  },
  {
   "cell_type": "markdown",
   "metadata": {},
   "source": [
    "The plot below shows the strong relationship between the title of a passenger and it's survival rate."
   ]
  },
  {
   "cell_type": "code",
   "execution_count": 10,
   "metadata": {
    "collapsed": false
   },
   "outputs": [
    {
     "data": {
      "text/plain": [
       "<matplotlib.axes._subplots.AxesSubplot at 0x7f6acde6fa20>"
      ]
     },
     "execution_count": 10,
     "metadata": {},
     "output_type": "execute_result"
    },
    {
     "data": {
      "image/png": "[encoded data removed]",
      "text/plain": [
       "<matplotlib.figure.Figure at 0x7f6acdf6e5f8>"
      ]
     },
     "metadata": {},
     "output_type": "display_data"
    }
   ],
   "source": [
    "sns.barplot(x='Title', y='Survived', data=pd.concat([new_features.Title, full_data.Survived], axis=1, join='inner'))"
   ]
  },
  {
   "cell_type": "markdown",
   "metadata": {},
   "source": [
    "The next interesting thing to look at is the passenger's surname. There ara lots of different surnames, but it is possible to notice some repetition, that we can infer that is due to a family on board. Now that we have some information linking passengers from the same family it makes sence to verify whether there are any survivals from a given family, thus the feature SurvivingRelatives was created."
   ]
  },
  {
   "cell_type": "code",
   "execution_count": 11,
   "metadata": {
    "collapsed": false
   },
   "outputs": [
    {
     "data": {
      "text/plain": [
       "Sage         11\n",
       "Andersson    11\n",
       "Asplund       8\n",
       "Goodwin       8\n",
       "Davies        7\n",
       "Rice          6\n",
       "Smith         6\n",
       "Johnson       6\n",
       "Brown         6\n",
       "Ford          6\n",
       "Fortune       6\n",
       "Carter        6\n",
       "Skoog         6\n",
       "Panula        6\n",
       "Ryerson       5\n",
       "Name: Surname, dtype: int64"
      ]
     },
     "execution_count": 11,
     "metadata": {},
     "output_type": "execute_result"
    }
   ],
   "source": [
    "new_features.Surname.value_counts()[0:15]"
   ]
  },
  {
   "cell_type": "code",
   "execution_count": 12,
   "metadata": {
    "collapsed": false
   },
   "outputs": [
    {
     "name": "stderr",
     "output_type": "stream",
     "text": [
      "/home/rafael/anaconda3/envs/titanic/lib/python3.5/site-packages/pandas/core/indexing.py:132: SettingWithCopyWarning: \n",
      "A value is trying to be set on a copy of a slice from a DataFrame\n",
      "\n",
      "See the caveats in the documentation: http://pandas.pydata.org/pandas-docs/stable/indexing.html#indexing-view-versus-copy\n",
      "  self._setitem_with_indexer(indexer, value)\n"
     ]
    }
   ],
   "source": [
    "# Verifies if there are anyone charing the same surname that survived. For test data it is considered that a \n",
    "# passenger survived if, and only if, the passenger is female.\n",
    "surname_df = pd.DataFrame()\n",
    "surname_df.loc[:,'Surname'] = new_features.Surname\n",
    "surname_df.loc[:,'Survived'] = pd.concat([train_data.Survived, test_data.Sex.replace(['male','female'],[0,1])], axis=0).reset_index(drop=True)\n",
    "surname_df.loc[:,'SurvivingRelatives'] = 0\n",
    "for i, row in surname_df.iterrows():\n",
    "    if any((surname_df.drop(i).Surname==row.Surname) & (surname_df.drop(i).Survived==1)):\n",
    "        surname_df.SurvivingRelatives.iloc[i]=1"
   ]
  },
  {
   "cell_type": "markdown",
   "metadata": {},
   "source": [
    "As we can see, having a surviving relative increases the survival rate in almost 50%."
   ]
  },
  {
   "cell_type": "code",
   "execution_count": 13,
   "metadata": {
    "collapsed": false
   },
   "outputs": [
    {
     "data": {
      "text/plain": [
       "<matplotlib.axes._subplots.AxesSubplot at 0x7f6acbaa20f0>"
      ]
     },
     "execution_count": 13,
     "metadata": {},
     "output_type": "execute_result"
    },
    {
     "data": {
      "image/png": "[encoded data removed]",
      "text/plain": [
       "<matplotlib.figure.Figure at 0x7f6acbafac88>"
      ]
     },
     "metadata": {},
     "output_type": "display_data"
    }
   ],
   "source": [
    "sns.barplot(x=surname_df.SurvivingRelatives, y=surname_df.Survived)"
   ]
  },
  {
   "cell_type": "code",
   "execution_count": 14,
   "metadata": {
    "collapsed": true
   },
   "outputs": [],
   "source": [
    "new_features.loc[:,'SurvivingRelatives'] = surname_df.SurvivingRelatives\n",
    "new_features = new_features.drop('Surname',axis=1)"
   ]
  },
  {
   "cell_type": "markdown",
   "metadata": {},
   "source": [
    "### 2.2 - Ticket\n",
    "\n",
    "The ticket variable is, sometimes composed by some kind of code before the numbers. Those are listed below."
   ]
  },
  {
   "cell_type": "code",
   "execution_count": 15,
   "metadata": {
    "collapsed": false
   },
   "outputs": [
    {
     "data": {
      "text/plain": [
       "None        961\n",
       "PC           92\n",
       "CA           68\n",
       "A/5          25\n",
       "SOTON/OQ     24\n",
       "SC/PARIS     19\n",
       "W/C          15\n",
       "2            15\n",
       "FCC           9\n",
       "A/4           9\n",
       "C             8\n",
       "SOC           7\n",
       "STON/O2       7\n",
       "SO/PP         7\n",
       "SC/AH         4\n",
       "PP            4\n",
       "SOTON/O2      3\n",
       "A5            3\n",
       "FC            3\n",
       "SC/A4         2\n",
       "WEP           2\n",
       "SC            2\n",
       "SW/PP         2\n",
       "P/PP          2\n",
       "WE/P          2\n",
       "SO/C          1\n",
       "BASLE         1\n",
       "SOP           1\n",
       "A4            1\n",
       "SP            1\n",
       "FA            1\n",
       "SCO/W         1\n",
       "LP            1\n",
       "STON/OQ       1\n",
       "A/S           1\n",
       "AQ/4          1\n",
       "CA/SOTON      1\n",
       "AQ/3          1\n",
       "SC/A3         1\n",
       "Name: tk_type, dtype: int64"
      ]
     },
     "execution_count": 15,
     "metadata": {},
     "output_type": "execute_result"
    }
   ],
   "source": [
    "full_data.Ticket.tolist()\n",
    "full_data.Ticket[full_data.Ticket=='LINE'].Ticket = 'LINE '\n",
    "foo = lambda x: pd.Series([i for i in reversed(x.upper().replace('.','').split(' '))])\n",
    "df1 = full_data['Ticket'].apply(foo)\n",
    "df1.rename(columns={0:'tk_num',1:'tk_type',2:'tk_o'},inplace=True)\n",
    "df1 = df1.fillna(value='None')\n",
    "df1 = pd.concat([df1.tk_type, full_data.Survived], axis=1, join='inner')\n",
    "df1.tk_type.value_counts()"
   ]
  },
  {
   "cell_type": "markdown",
   "metadata": {},
   "source": [
    "After some processing it was possible to reduce the amount of classes to just a few. Unfortunatly only a few of those classes actually present significaly differences on survival rate. "
   ]
  },
  {
   "cell_type": "code",
   "execution_count": 16,
   "metadata": {
    "collapsed": false
   },
   "outputs": [
    {
     "data": {
      "text/plain": [
       "<matplotlib.axes._subplots.AxesSubplot at 0x7f6acb6b3d30>"
      ]
     },
     "execution_count": 16,
     "metadata": {},
     "output_type": "execute_result"
    },
    {
     "data": {
      "image/png": "[encoded data removed]",
      "text/plain": [
       "<matplotlib.figure.Figure at 0x7f6acb6b8128>"
      ]
     },
     "metadata": {},
     "output_type": "display_data"
    }
   ],
   "source": [
    "df1.loc[(df1.tk_type.str.contains('STON', na=False))|(df1.tk_type.str.contains('SOTON', na=False)),'tk_type']='SOTON'\n",
    "df1.loc[df1.tk_type.str.contains('SC', na=False),'tk_type']='SC'\n",
    "df1.loc[df1.tk_type.str.contains('PP', na=False),'tk_type']='PP'\n",
    "df1.loc[df1.tk_type.isin(['A/5','A5','A/4','A4']),'tk_type'] = 'A'\n",
    "df1.loc[~df1.tk_type.isin(['PC','PP','CA','SC','SOTON','A','2','W/C','None']),'tk_type'] = 'Rare'\n",
    "sns.barplot(x='tk_type', y='Survived', data=df1)"
   ]
  },
  {
   "cell_type": "markdown",
   "metadata": {},
   "source": [
    "### 2.3 - Deck\n",
    "\n",
    "The last information that we can extract is the deck letter, in the cabin variable. We can notice that those who have the cabin variable filled up have higher survival rates than those who don't. The diference between decks doesn't look statistically significant."
   ]
  },
  {
   "cell_type": "code",
   "execution_count": 17,
   "metadata": {
    "collapsed": false
   },
   "outputs": [
    {
     "data": {
      "text/plain": [
       "<matplotlib.axes._subplots.AxesSubplot at 0x7f6acb7957b8>"
      ]
     },
     "execution_count": 17,
     "metadata": {},
     "output_type": "execute_result"
    },
    {
     "data": {
      "image/png": "[encoded data removed]",
      "text/plain": [
       "<matplotlib.figure.Figure at 0x7f6acb8159b0>"
      ]
     },
     "metadata": {},
     "output_type": "display_data"
    }
   ],
   "source": [
    "new_features.loc[:,'Deck'] = full_data.Cabin.fillna(value='X').astype(str).str[0]\n",
    "new_features.loc[new_features['Deck']=='T', 'Deck'] = 'X'\n",
    "sns.barplot(x='Deck', y='Survived', data=pd.concat([new_features.Deck, full_data.Survived], axis=1, join='inner'))"
   ]
  },
  {
   "cell_type": "code",
   "execution_count": 18,
   "metadata": {
    "collapsed": false
   },
   "outputs": [
    {
     "data": {
      "text/plain": [
       "Age                   float64\n",
       "Fare                  float64\n",
       "Survived              float64\n",
       "SurvivingRelatives      int64\n",
       "FamilySize              int64\n",
       "Embarked_C            float64\n",
       "Embarked_Q            float64\n",
       "Embarked_S            float64\n",
       "Pclass_1              float64\n",
       "Pclass_2              float64\n",
       "Pclass_3              float64\n",
       "Sex_female            float64\n",
       "Sex_male              float64\n",
       "Title_Master          float64\n",
       "Title_Miss            float64\n",
       "Title_Mr              float64\n",
       "Title_Mrs             float64\n",
       "Title_Rare            float64\n",
       "Deck_A                float64\n",
       "Deck_B                float64\n",
       "Deck_C                float64\n",
       "Deck_D                float64\n",
       "Deck_E                float64\n",
       "Deck_F                float64\n",
       "Deck_G                float64\n",
       "Deck_X                float64\n",
       "dtype: object"
      ]
     },
     "execution_count": 18,
     "metadata": {},
     "output_type": "execute_result"
    }
   ],
   "source": [
    "preproc_data = pd.concat([full_data.drop(['PassengerId','Cabin', 'Ticket', 'Name'], axis=1), new_features], axis=1, join='inner')\n",
    "preproc_data['FamilySize'] = preproc_data.Parch + preproc_data.SibSp + 1\n",
    "preproc_data = preproc_data.drop(['Parch','SibSp'],axis=1)\n",
    "final_data = pd.get_dummies(preproc_data)\n",
    "final_data.dtypes"
   ]
  },
  {
   "cell_type": "markdown",
   "metadata": {
    "collapsed": true
   },
   "source": [
    "## 3 - Imputation of missing values\n",
    "\n",
    "### 3.1 - Embarked\n",
    "\n",
    "There are two passangers with a missing value for Embarked:"
   ]
  },
  {
   "cell_type": "code",
   "execution_count": 19,
   "metadata": {
    "collapsed": false
   },
   "outputs": [
    {
     "data": {
      "text/html": [
       "<div>\n",
       "<table border=\"1\" class=\"dataframe\">\n",
       "  <thead>\n",
       "    <tr style=\"text-align: right;\">\n",
       "      <th></th>\n",
       "      <th>Age</th>\n",
       "      <th>Embarked</th>\n",
       "      <th>Fare</th>\n",
       "      <th>Pclass</th>\n",
       "      <th>Sex</th>\n",
       "      <th>Survived</th>\n",
       "      <th>Title</th>\n",
       "      <th>SurvivingRelatives</th>\n",
       "      <th>Deck</th>\n",
       "      <th>FamilySize</th>\n",
       "    </tr>\n",
       "  </thead>\n",
       "  <tbody>\n",
       "    <tr>\n",
       "      <th>61</th>\n",
       "      <td>38.0</td>\n",
       "      <td>NaN</td>\n",
       "      <td>80.0</td>\n",
       "      <td>1</td>\n",
       "      <td>female</td>\n",
       "      <td>1.0</td>\n",
       "      <td>Miss</td>\n",
       "      <td>0</td>\n",
       "      <td>B</td>\n",
       "      <td>1</td>\n",
       "    </tr>\n",
       "    <tr>\n",
       "      <th>829</th>\n",
       "      <td>62.0</td>\n",
       "      <td>NaN</td>\n",
       "      <td>80.0</td>\n",
       "      <td>1</td>\n",
       "      <td>female</td>\n",
       "      <td>1.0</td>\n",
       "      <td>Mrs</td>\n",
       "      <td>0</td>\n",
       "      <td>B</td>\n",
       "      <td>1</td>\n",
       "    </tr>\n",
       "  </tbody>\n",
       "</table>\n",
       "</div>"
      ],
      "text/plain": [
       "      Age Embarked  Fare Pclass     Sex  Survived Title  SurvivingRelatives  \\\n",
       "61   38.0      NaN  80.0      1  female       1.0  Miss                   0   \n",
       "829  62.0      NaN  80.0      1  female       1.0   Mrs                   0   \n",
       "\n",
       "    Deck  FamilySize  \n",
       "61     B           1  \n",
       "829    B           1  "
      ]
     },
     "execution_count": 19,
     "metadata": {},
     "output_type": "execute_result"
    }
   ],
   "source": [
    "preproc_data.iloc[[61,829]]"
   ]
  },
  {
   "cell_type": "markdown",
   "metadata": {},
   "source": [
    "To find out the, value we can look at the variables with the highest absolute correlation with Embarked variable. Those are Pclass and Fare, and they are the same for both passengers."
   ]
  },
  {
   "cell_type": "code",
   "execution_count": 20,
   "metadata": {
    "collapsed": false
   },
   "outputs": [
    {
     "data": {
      "text/plain": [
       "Embarked_C    1.000000\n",
       "Embarked_S    0.775441\n",
       "Pclass_1      0.325722\n",
       "Fare          0.286269\n",
       "Deck_X        0.259501\n",
       "Name: Embarked_C, dtype: float64"
      ]
     },
     "execution_count": 20,
     "metadata": {},
     "output_type": "execute_result"
    }
   ],
   "source": [
    "corr=final_data.corr().abs().sort_values(by='Embarked_C',ascending=False)\n",
    "corr.Embarked_C[corr.Embarked_C>0.2]"
   ]
  },
  {
   "cell_type": "markdown",
   "metadata": {},
   "source": [
    "Comparing the median of the fares payed in the three ports we find out that Cherbourg has a fare more similar with the fare that the passengers payed."
   ]
  },
  {
   "cell_type": "code",
   "execution_count": 21,
   "metadata": {
    "collapsed": false
   },
   "outputs": [
    {
     "name": "stdout",
     "output_type": "stream",
     "text": [
      "Median (C): 76.7292\n",
      "Median (Q): 90.0\n",
      "Median (S): 52.0\n"
     ]
    },
    {
     "data": {
      "image/png": "[encoded data removed]",
      "text/plain": [
       "<matplotlib.figure.Figure at 0x7f6acb8229b0>"
      ]
     },
     "metadata": {},
     "output_type": "display_data"
    }
   ],
   "source": [
    "sns.boxplot(y='Fare',x='Embarked',data=preproc_data[preproc_data.Pclass==1])\n",
    "print ('Median (C):',preproc_data[(preproc_data.Pclass==1)&(preproc_data.Embarked=='C')].Fare.median())\n",
    "print ('Median (Q):',preproc_data[(preproc_data.Pclass==1)&(preproc_data.Embarked=='Q')].Fare.median())\n",
    "print ('Median (S):',preproc_data[(preproc_data.Pclass==1)&(preproc_data.Embarked=='S')].Fare.median())"
   ]
  },
  {
   "cell_type": "code",
   "execution_count": 22,
   "metadata": {
    "collapsed": false
   },
   "outputs": [],
   "source": [
    "final_data.loc[61, 'Embarked_C'] = 1\n",
    "final_data.loc[829, 'Embarked_C'] = 1\n",
    "\n",
    "preproc_data.loc[61, 'Embarked'] = 'C'\n",
    "preproc_data.loc[829, 'Embarked'] = 'C'"
   ]
  },
  {
   "cell_type": "markdown",
   "metadata": {},
   "source": [
    "### 3.2 - Fare\n",
    "\n",
    "There is one passanger with a missing value for Fare:"
   ]
  },
  {
   "cell_type": "code",
   "execution_count": 23,
   "metadata": {
    "collapsed": false
   },
   "outputs": [
    {
     "data": {
      "text/html": [
       "<div>\n",
       "<table border=\"1\" class=\"dataframe\">\n",
       "  <thead>\n",
       "    <tr style=\"text-align: right;\">\n",
       "      <th></th>\n",
       "      <th>Age</th>\n",
       "      <th>Embarked</th>\n",
       "      <th>Fare</th>\n",
       "      <th>Pclass</th>\n",
       "      <th>Sex</th>\n",
       "      <th>Survived</th>\n",
       "      <th>Title</th>\n",
       "      <th>SurvivingRelatives</th>\n",
       "      <th>Deck</th>\n",
       "      <th>FamilySize</th>\n",
       "    </tr>\n",
       "  </thead>\n",
       "  <tbody>\n",
       "    <tr>\n",
       "      <th>1043</th>\n",
       "      <td>60.5</td>\n",
       "      <td>S</td>\n",
       "      <td>NaN</td>\n",
       "      <td>3</td>\n",
       "      <td>male</td>\n",
       "      <td>NaN</td>\n",
       "      <td>Mr</td>\n",
       "      <td>0</td>\n",
       "      <td>X</td>\n",
       "      <td>1</td>\n",
       "    </tr>\n",
       "  </tbody>\n",
       "</table>\n",
       "</div>"
      ],
      "text/plain": [
       "       Age Embarked  Fare Pclass   Sex  Survived Title  SurvivingRelatives  \\\n",
       "1043  60.5        S   NaN      3  male       NaN    Mr                   0   \n",
       "\n",
       "     Deck  FamilySize  \n",
       "1043    X           1  "
      ]
     },
     "execution_count": 23,
     "metadata": {},
     "output_type": "execute_result"
    }
   ],
   "source": [
    "preproc_data.iloc[[1043]]"
   ]
  },
  {
   "cell_type": "markdown",
   "metadata": {},
   "source": [
    "To find out the value, we can look at the variable with the highest absolute correlation with Fare, this is Pclass. "
   ]
  },
  {
   "cell_type": "code",
   "execution_count": 24,
   "metadata": {
    "collapsed": false
   },
   "outputs": [
    {
     "data": {
      "text/plain": [
       "Fare        1.000000\n",
       "Pclass_1    0.600031\n",
       "Deck_X      0.507787\n",
       "Pclass_3    0.419752\n",
       "Deck_C      0.401382\n",
       "Deck_B      0.393751\n",
       "Name: Fare, dtype: float64"
      ]
     },
     "execution_count": 24,
     "metadata": {},
     "output_type": "execute_result"
    }
   ],
   "source": [
    "corr=final_data.corr().abs().sort_values(by='Fare',ascending=False)\n",
    "corr.Fare[corr.Fare>0.3]"
   ]
  },
  {
   "cell_type": "markdown",
   "metadata": {},
   "source": [
    "Next we look at the variable with highest absolute correlation with Fare given that the Pclass o the passenger is 3. This variable is FamilySize."
   ]
  },
  {
   "cell_type": "code",
   "execution_count": 25,
   "metadata": {
    "collapsed": false
   },
   "outputs": [
    {
     "data": {
      "text/plain": [
       "Fare                  1.000000\n",
       "FamilySize            0.818544\n",
       "SurvivingRelatives    0.321021\n",
       "Name: Fare, dtype: float64"
      ]
     },
     "execution_count": 25,
     "metadata": {},
     "output_type": "execute_result"
    }
   ],
   "source": [
    "corr=final_data[final_data.Pclass_3==1].corr().abs().sort_values(by='Fare',ascending=False)\n",
    "corr.Fare[corr.Fare>0.3]"
   ]
  },
  {
   "cell_type": "markdown",
   "metadata": {},
   "source": [
    "Looking at the PDF of Fare given that Pclass is 3 and FamilySize is 1 it's reasonable to say that the Fare this passenger payed is the median of the distribution. "
   ]
  },
  {
   "cell_type": "code",
   "execution_count": 28,
   "metadata": {
    "collapsed": false
   },
   "outputs": [
    {
     "name": "stdout",
     "output_type": "stream",
     "text": [
      "Median: 7.8542\n"
     ]
    },
    {
     "data": {
      "image/png": "[encoded data removed]",
      "text/plain": [
       "<matplotlib.figure.Figure at 0x7f6acb355198>"
      ]
     },
     "metadata": {},
     "output_type": "display_data"
    }
   ],
   "source": [
    "sns.kdeplot(final_data[(final_data.Pclass_3==1)&(final_data.FamilySize==1)].Fare.dropna())\n",
    "print ('Median:',final_data[(final_data.Pclass_3==1)&(final_data.FamilySize==1)].Fare.median())"
   ]
  },
  {
   "cell_type": "code",
   "execution_count": 29,
   "metadata": {
    "collapsed": false
   },
   "outputs": [],
   "source": [
    "final_data.loc[1043,'Fare'] = final_data[(final_data.Pclass_3==1)&(final_data.FamilySize==1)].Fare.median()\n",
    "preproc_data.loc[1043,'Fare'] = final_data.loc[1043,'Fare'] "
   ]
  },
  {
   "cell_type": "markdown",
   "metadata": {},
   "source": [
    "### 3.3 - Age\n",
    "\n",
    "There are 263 passangers with a missing value for Age:"
   ]
  },
  {
   "cell_type": "code",
   "execution_count": 30,
   "metadata": {
    "collapsed": false
   },
   "outputs": [
    {
     "name": "stdout",
     "output_type": "stream",
     "text": [
      "Passengers missing Age: 263\n"
     ]
    },
    {
     "data": {
      "text/html": [
       "<div>\n",
       "<table border=\"1\" class=\"dataframe\">\n",
       "  <thead>\n",
       "    <tr style=\"text-align: right;\">\n",
       "      <th></th>\n",
       "      <th>Age</th>\n",
       "      <th>Fare</th>\n",
       "      <th>Survived</th>\n",
       "      <th>SurvivingRelatives</th>\n",
       "      <th>FamilySize</th>\n",
       "      <th>Embarked_C</th>\n",
       "      <th>Embarked_Q</th>\n",
       "      <th>Embarked_S</th>\n",
       "      <th>Pclass_1</th>\n",
       "      <th>Pclass_2</th>\n",
       "      <th>...</th>\n",
       "      <th>Title_Mrs</th>\n",
       "      <th>Title_Rare</th>\n",
       "      <th>Deck_A</th>\n",
       "      <th>Deck_B</th>\n",
       "      <th>Deck_C</th>\n",
       "      <th>Deck_D</th>\n",
       "      <th>Deck_E</th>\n",
       "      <th>Deck_F</th>\n",
       "      <th>Deck_G</th>\n",
       "      <th>Deck_X</th>\n",
       "    </tr>\n",
       "  </thead>\n",
       "  <tbody>\n",
       "    <tr>\n",
       "      <th>5</th>\n",
       "      <td>NaN</td>\n",
       "      <td>8.4583</td>\n",
       "      <td>0.0</td>\n",
       "      <td>1</td>\n",
       "      <td>1</td>\n",
       "      <td>0.0</td>\n",
       "      <td>1.0</td>\n",
       "      <td>0.0</td>\n",
       "      <td>0.0</td>\n",
       "      <td>0.0</td>\n",
       "      <td>...</td>\n",
       "      <td>0.0</td>\n",
       "      <td>0.0</td>\n",
       "      <td>0.0</td>\n",
       "      <td>0.0</td>\n",
       "      <td>0.0</td>\n",
       "      <td>0.0</td>\n",
       "      <td>0.0</td>\n",
       "      <td>0.0</td>\n",
       "      <td>0.0</td>\n",
       "      <td>1.0</td>\n",
       "    </tr>\n",
       "    <tr>\n",
       "      <th>17</th>\n",
       "      <td>NaN</td>\n",
       "      <td>13.0000</td>\n",
       "      <td>1.0</td>\n",
       "      <td>0</td>\n",
       "      <td>1</td>\n",
       "      <td>0.0</td>\n",
       "      <td>0.0</td>\n",
       "      <td>1.0</td>\n",
       "      <td>0.0</td>\n",
       "      <td>1.0</td>\n",
       "      <td>...</td>\n",
       "      <td>0.0</td>\n",
       "      <td>0.0</td>\n",
       "      <td>0.0</td>\n",
       "      <td>0.0</td>\n",
       "      <td>0.0</td>\n",
       "      <td>0.0</td>\n",
       "      <td>0.0</td>\n",
       "      <td>0.0</td>\n",
       "      <td>0.0</td>\n",
       "      <td>1.0</td>\n",
       "    </tr>\n",
       "    <tr>\n",
       "      <th>19</th>\n",
       "      <td>NaN</td>\n",
       "      <td>7.2250</td>\n",
       "      <td>1.0</td>\n",
       "      <td>0</td>\n",
       "      <td>1</td>\n",
       "      <td>1.0</td>\n",
       "      <td>0.0</td>\n",
       "      <td>0.0</td>\n",
       "      <td>0.0</td>\n",
       "      <td>0.0</td>\n",
       "      <td>...</td>\n",
       "      <td>1.0</td>\n",
       "      <td>0.0</td>\n",
       "      <td>0.0</td>\n",
       "      <td>0.0</td>\n",
       "      <td>0.0</td>\n",
       "      <td>0.0</td>\n",
       "      <td>0.0</td>\n",
       "      <td>0.0</td>\n",
       "      <td>0.0</td>\n",
       "      <td>1.0</td>\n",
       "    </tr>\n",
       "    <tr>\n",
       "      <th>26</th>\n",
       "      <td>NaN</td>\n",
       "      <td>7.2250</td>\n",
       "      <td>0.0</td>\n",
       "      <td>0</td>\n",
       "      <td>1</td>\n",
       "      <td>1.0</td>\n",
       "      <td>0.0</td>\n",
       "      <td>0.0</td>\n",
       "      <td>0.0</td>\n",
       "      <td>0.0</td>\n",
       "      <td>...</td>\n",
       "      <td>0.0</td>\n",
       "      <td>0.0</td>\n",
       "      <td>0.0</td>\n",
       "      <td>0.0</td>\n",
       "      <td>0.0</td>\n",
       "      <td>0.0</td>\n",
       "      <td>0.0</td>\n",
       "      <td>0.0</td>\n",
       "      <td>0.0</td>\n",
       "      <td>1.0</td>\n",
       "    </tr>\n",
       "    <tr>\n",
       "      <th>28</th>\n",
       "      <td>NaN</td>\n",
       "      <td>7.8792</td>\n",
       "      <td>1.0</td>\n",
       "      <td>0</td>\n",
       "      <td>1</td>\n",
       "      <td>0.0</td>\n",
       "      <td>1.0</td>\n",
       "      <td>0.0</td>\n",
       "      <td>0.0</td>\n",
       "      <td>0.0</td>\n",
       "      <td>...</td>\n",
       "      <td>0.0</td>\n",
       "      <td>0.0</td>\n",
       "      <td>0.0</td>\n",
       "      <td>0.0</td>\n",
       "      <td>0.0</td>\n",
       "      <td>0.0</td>\n",
       "      <td>0.0</td>\n",
       "      <td>0.0</td>\n",
       "      <td>0.0</td>\n",
       "      <td>1.0</td>\n",
       "    </tr>\n",
       "  </tbody>\n",
       "</table>\n",
       "<p>5 rows × 26 columns</p>\n",
       "</div>"
      ],
      "text/plain": [
       "    Age     Fare  Survived  SurvivingRelatives  FamilySize  Embarked_C  \\\n",
       "5   NaN   8.4583       0.0                   1           1         0.0   \n",
       "17  NaN  13.0000       1.0                   0           1         0.0   \n",
       "19  NaN   7.2250       1.0                   0           1         1.0   \n",
       "26  NaN   7.2250       0.0                   0           1         1.0   \n",
       "28  NaN   7.8792       1.0                   0           1         0.0   \n",
       "\n",
       "    Embarked_Q  Embarked_S  Pclass_1  Pclass_2   ...    Title_Mrs  Title_Rare  \\\n",
       "5          1.0         0.0       0.0       0.0   ...          0.0         0.0   \n",
       "17         0.0         1.0       0.0       1.0   ...          0.0         0.0   \n",
       "19         0.0         0.0       0.0       0.0   ...          1.0         0.0   \n",
       "26         0.0         0.0       0.0       0.0   ...          0.0         0.0   \n",
       "28         1.0         0.0       0.0       0.0   ...          0.0         0.0   \n",
       "\n",
       "    Deck_A  Deck_B  Deck_C  Deck_D  Deck_E  Deck_F  Deck_G  Deck_X  \n",
       "5      0.0     0.0     0.0     0.0     0.0     0.0     0.0     1.0  \n",
       "17     0.0     0.0     0.0     0.0     0.0     0.0     0.0     1.0  \n",
       "19     0.0     0.0     0.0     0.0     0.0     0.0     0.0     1.0  \n",
       "26     0.0     0.0     0.0     0.0     0.0     0.0     0.0     1.0  \n",
       "28     0.0     0.0     0.0     0.0     0.0     0.0     0.0     1.0  \n",
       "\n",
       "[5 rows x 26 columns]"
      ]
     },
     "execution_count": 30,
     "metadata": {},
     "output_type": "execute_result"
    }
   ],
   "source": [
    "no_age = final_data[final_data.Age.isnull()]\n",
    "print ('Passengers missing Age:',len(no_age))\n",
    "no_age.head()"
   ]
  },
  {
   "cell_type": "markdown",
   "metadata": {},
   "source": [
    "First of all lets look the variables with the highest absolute correlation wit Age. The plot confirms that Title is very related to Age."
   ]
  },
  {
   "cell_type": "code",
   "execution_count": 31,
   "metadata": {
    "collapsed": false
   },
   "outputs": [
    {
     "data": {
      "text/plain": [
       "Age             1.000000\n",
       "Pclass_1        0.393198\n",
       "Title_Master    0.391259\n",
       "Pclass_3        0.337069\n",
       "Deck_X          0.287797\n",
       "Title_Miss      0.282792\n",
       "FamilySize      0.240229\n",
       "Title_Mrs       0.217502\n",
       "Name: Age, dtype: float64"
      ]
     },
     "execution_count": 31,
     "metadata": {},
     "output_type": "execute_result"
    }
   ],
   "source": [
    "corr = final_data.corr().abs().sort_values(by='Age',ascending=False)\n",
    "corr.Age[corr.Age>0.2]"
   ]
  },
  {
   "cell_type": "code",
   "execution_count": 32,
   "metadata": {
    "collapsed": false
   },
   "outputs": [
    {
     "data": {
      "text/plain": [
       "<matplotlib.axes._subplots.AxesSubplot at 0x7f6acb3464e0>"
      ]
     },
     "execution_count": 32,
     "metadata": {},
     "output_type": "execute_result"
    },
    {
     "data": {
      "image/png": "[encoded data removed]",
      "text/plain": [
       "<matplotlib.figure.Figure at 0x7f6acb6bb9b0>"
      ]
     },
     "metadata": {},
     "output_type": "display_data"
    }
   ],
   "source": [
    "sns.kdeplot(preproc_data[preproc_data.Title=='Mr'].Age.dropna(), label='Mr')\n",
    "sns.kdeplot(preproc_data[preproc_data.Title=='Mrs'].Age.dropna(), label='Mrs')\n",
    "sns.kdeplot(preproc_data[preproc_data.Title=='Miss'].Age.dropna(), label='Miss')\n",
    "sns.kdeplot(preproc_data[preproc_data.Title=='Master'].Age.dropna(), label='Master')\n",
    "sns.kdeplot(preproc_data[preproc_data.Title=='Rare'].Age.dropna(), label='Rare')"
   ]
  },
  {
   "cell_type": "markdown",
   "metadata": {},
   "source": [
    "To impute missing values for Age lets use Multiple Imputation by Chained Equation (MICE). Check http://www.ncbi.nlm.nih.gov/pmc/articles/PMC3074241/ for more information about it."
   ]
  },
  {
   "cell_type": "code",
   "execution_count": 33,
   "metadata": {
    "collapsed": false
   },
   "outputs": [
    {
     "name": "stdout",
     "output_type": "stream",
     "text": [
      "[MICE] Completing matrix with shape (1309, 8)\n",
      "[MICE] Starting imputation round 1/20, elapsed time 0.003\n",
      "[MICE] Starting imputation round 2/20, elapsed time 0.016\n",
      "[MICE] Starting imputation round 3/20, elapsed time 0.017\n",
      "[MICE] Starting imputation round 4/20, elapsed time 0.019\n",
      "[MICE] Starting imputation round 5/20, elapsed time 0.020\n",
      "[MICE] Starting imputation round 6/20, elapsed time 0.021\n",
      "[MICE] Starting imputation round 7/20, elapsed time 0.021\n",
      "[MICE] Starting imputation round 8/20, elapsed time 0.022\n",
      "[MICE] Starting imputation round 9/20, elapsed time 0.023\n",
      "[MICE] Starting imputation round 10/20, elapsed time 0.028\n",
      "[MICE] Starting imputation round 11/20, elapsed time 0.029\n",
      "[MICE] Starting imputation round 12/20, elapsed time 0.030\n",
      "[MICE] Starting imputation round 13/20, elapsed time 0.031\n",
      "[MICE] Starting imputation round 14/20, elapsed time 0.032\n",
      "[MICE] Starting imputation round 15/20, elapsed time 0.033\n",
      "[MICE] Starting imputation round 16/20, elapsed time 0.034\n",
      "[MICE] Starting imputation round 17/20, elapsed time 0.035\n",
      "[MICE] Starting imputation round 18/20, elapsed time 0.037\n",
      "[MICE] Starting imputation round 19/20, elapsed time 0.038\n",
      "[MICE] Starting imputation round 20/20, elapsed time 0.039\n"
     ]
    }
   ],
   "source": [
    "filled_soft = fancyimpute.MICE(init_fill_method='random', n_imputations=10).complete(np.array(final_data[['Age','Pclass_1','Title_Master','Pclass_3','Title_Miss','FamilySize','Deck_X','Title_Mrs']]))"
   ]
  },
  {
   "cell_type": "markdown",
   "metadata": {},
   "source": [
    "The plot below shows how the distribution of the imputed values is very similar to the original distribution."
   ]
  },
  {
   "cell_type": "code",
   "execution_count": 34,
   "metadata": {
    "collapsed": false
   },
   "outputs": [
    {
     "data": {
      "text/plain": [
       "<matplotlib.axes._subplots.AxesSubplot at 0x7f6acb4f2438>"
      ]
     },
     "execution_count": 34,
     "metadata": {},
     "output_type": "execute_result"
    },
    {
     "data": {
      "image/png": "[encoded data removed]",
      "text/plain": [
       "<matplotlib.figure.Figure at 0x7f6acb4c3ac8>"
      ]
     },
     "metadata": {},
     "output_type": "display_data"
    }
   ],
   "source": [
    "age_series = pd.DataFrame(filled_soft)[0]\n",
    "sns.kdeplot(age_series, label='Imputed Values')\n",
    "sns.kdeplot(final_data.Age.dropna(), label='Original Date')"
   ]
  },
  {
   "cell_type": "code",
   "execution_count": 35,
   "metadata": {
    "collapsed": false
   },
   "outputs": [],
   "source": [
    "final_data.loc[:,'Age'] = age_series\n",
    "preproc_data.loc[:,'Age'] = age_series"
   ]
  },
  {
   "cell_type": "code",
   "execution_count": 36,
   "metadata": {
    "collapsed": false
   },
   "outputs": [],
   "source": [
    "train_preproc = final_data[:len(train_data)]\n",
    "test_preproc = final_data[len(train_data):].drop('Survived',axis=1)"
   ]
  },
  {
   "cell_type": "markdown",
   "metadata": {},
   "source": [
    "Now that all the pre-process is defined there can be defined a function 'preprocess()' that will receive a dataframe and apply all the steps discussed so far. This function was created and used by me on the 'model_engineering' notebook."
   ]
  },
  {
   "cell_type": "markdown",
   "metadata": {},
   "source": [
    "## 4 - Model\n",
    "\n",
    "The focus of this notebook is exploratory analysis and feature engineering, but lets create a simple Logistic Regression model just to have a feeling on what results we can expect from the features created so far."
   ]
  },
  {
   "cell_type": "code",
   "execution_count": 37,
   "metadata": {
    "collapsed": false
   },
   "outputs": [],
   "source": [
    "X_train = train_preproc.drop('Survived', axis=1)\n",
    "y_train = train_preproc.Survived\n",
    "X_test = test_preproc"
   ]
  },
  {
   "cell_type": "markdown",
   "metadata": {},
   "source": [
    "Lets leave the default values of scikit-learn and just evaluate de cross-validation accuracy of the model."
   ]
  },
  {
   "cell_type": "code",
   "execution_count": 40,
   "metadata": {
    "collapsed": false
   },
   "outputs": [
    {
     "name": "stdout",
     "output_type": "stream",
     "text": [
      "Cross-Validation Accuracy: 0.831731926002 +- 0.031330958922\n"
     ]
    }
   ],
   "source": [
    "clf = LogisticRegression()\n",
    "cv = cross_val_score(clf, X_train, y_train, cv=10) \n",
    "print ('Cross-Validation Accuracy:',mean(cv),'+-',std(cv))"
   ]
  },
  {
   "cell_type": "markdown",
   "metadata": {},
   "source": [
    "Then we fit a model with the full dataset."
   ]
  },
  {
   "cell_type": "code",
   "execution_count": 41,
   "metadata": {
    "collapsed": false
   },
   "outputs": [],
   "source": [
    "clf.fit(X_train,y_train)\n",
    "y_test = clf.predict(X_test)"
   ]
  },
  {
   "cell_type": "markdown",
   "metadata": {},
   "source": [
    "Finally we can output the data for kaggle submission"
   ]
  },
  {
   "cell_type": "code",
   "execution_count": 48,
   "metadata": {
    "collapsed": false
   },
   "outputs": [],
   "source": [
    "out = pd.DataFrame()\n",
    "out.loc[:,'PassengerId'] = test_data.PassengerId\n",
    "out.loc[:,'Survived'] = pd.Series(y_test, dtype='int')\n",
    "paths = get_paths()\n",
    "out.to_csv(path.join(paths['root'], paths['submission_dir'], 'simple_logreg.csv'), index=False)"
   ]
  },
  {
   "cell_type": "markdown",
   "metadata": {},
   "source": [
    "This output ranked 0.80383 on kaggle's leaderboard. Not bad for a model that simple!"
   ]
  }
 ],
 "metadata": {
  "celltoolbar": "Raw Cell Format",
  "kernelspec": {
   "display_name": "Python 3",
   "language": "python",
   "name": "python3"
  },
  "language_info": {
   "codemirror_mode": {
    "name": "ipython",
    "version": 3
   },
   "file_extension": ".py",
   "mimetype": "text/x-python",
   "name": "python",
   "nbconvert_exporter": "python",
   "pygments_lexer": "ipython3",
   "version": "3.5.1"
  }
 },
 "nbformat": 4,
 "nbformat_minor": 0
}
